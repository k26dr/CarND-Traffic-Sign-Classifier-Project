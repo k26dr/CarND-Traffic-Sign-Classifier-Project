{
 "cells": [
  {
   "cell_type": "markdown",
   "metadata": {},
   "source": [
    "# Self-Driving Car Engineer Nanodegree\n",
    "\n",
    "## Deep Learning\n",
    "\n",
    "## Project: Build a Traffic Sign Recognition Classifier\n",
    "\n",
    "In this notebook, a template is provided for you to implement your functionality in stages which is required to successfully complete this project. If additional code is required that cannot be included in the notebook, be sure that the Python code is successfully imported and included in your submission, if necessary. Sections that begin with **'Implementation'** in the header indicate where you should begin your implementation for your project. Note that some sections of implementation are optional, and will be marked with **'Optional'** in the header.\n",
    "\n",
    "In addition to implementing code, there will be questions that you must answer which relate to the project and your implementation. Each section where you will answer a question is preceded by a **'Question'** header. Carefully read each question and provide thorough answers in the following text boxes that begin with **'Answer:'**. Your project submission will be evaluated based on your answers to each of the questions and the implementation you provide.\n",
    "\n",
    ">**Note:** Code and Markdown cells can be executed using the **Shift + Enter** keyboard shortcut. In addition, Markdown cells can be edited by typically double-clicking the cell to enter edit mode."
   ]
  },
  {
   "cell_type": "markdown",
   "metadata": {},
   "source": [
    "---\n",
    "\n",
    "## Settings"
   ]
  },
  {
   "cell_type": "code",
   "execution_count": 7,
   "metadata": {
    "collapsed": false
   },
   "outputs": [],
   "source": [
    "# Control the notebook execution settings from here\n",
    "# This way you can use the \"Run Cells\" functionality for one-click execution, \n",
    "# but only execute the parts you want\n",
    "\n",
    "training_file = 'train_grayscale.p'\n",
    "testing_file = 'test_grayscale.p'\n",
    "flags = {\n",
    "    'show_plots': False, \n",
    "    'generate_color_images': False,\n",
    "    'generate_grayscale_images': False,\n",
    "    'train_network': False,\n",
    "    'train_cross_val': True,\n",
    "    'evaluate_test_accuracy': False\n",
    "}\n",
    "\n",
    "# HyperParameters for Training\n",
    "EPOCHS = 8\n",
    "BATCH_SIZE = 128\n",
    "MU = 0\n",
    "SIGMA = 0.1\n",
    "LEARNING_RATE = .001\n",
    "CONV_KEEP_PROB = 1\n",
    "KEEP_PROB = 1"
   ]
  },
  {
   "cell_type": "code",
   "execution_count": 57,
   "metadata": {
    "collapsed": false
   },
   "outputs": [],
   "source": [
    "# Run all imports\n",
    "import os\n",
    "import pickle\n",
    "import random\n",
    "import cv2\n",
    "import numpy as np\n",
    "import tensorflow as tf\n",
    "import matplotlib.pyplot as plt\n",
    "import matplotlib.image as mpimg\n",
    "import sklearn\n",
    "from sklearn.model_selection import StratifiedKFold, train_test_split\n",
    "%matplotlib inline"
   ]
  },
  {
   "cell_type": "markdown",
   "metadata": {},
   "source": [
    "---\n",
    "## Step 0: Load The Data"
   ]
  },
  {
   "cell_type": "code",
   "execution_count": 9,
   "metadata": {
    "collapsed": true
   },
   "outputs": [],
   "source": [
    "# Load pickled data\n",
    "with open(training_file, mode='rb') as f:\n",
    "    train = pickle.load(f)\n",
    "with open(testing_file, mode='rb') as f:\n",
    "    test = pickle.load(f)\n",
    "    \n",
    "X_train, y_train = train['features'], train['labels']\n",
    "X_test, y_test = test['features'], test['labels']"
   ]
  },
  {
   "cell_type": "markdown",
   "metadata": {},
   "source": [
    "---\n",
    "\n",
    "## Step 1: Dataset Summary & Exploration\n",
    "\n",
    "The pickled data is a dictionary with 4 key/value pairs:\n",
    "\n",
    "- `'features'` is a 4D array containing raw pixel data of the traffic sign images, (num examples, width, height, channels).\n",
    "- `'labels'` is a 2D array containing the label/class id of the traffic sign. The file `signnames.csv` contains id -> name mappings for each id.\n",
    "- `'sizes'` is a list containing tuples, (width, height) representing the the original width and height the image.\n",
    "- `'coords'` is a list containing tuples, (x1, y1, x2, y2) representing coordinates of a bounding box around the sign in the image. **THESE COORDINATES ASSUME THE ORIGINAL IMAGE. THE PICKLED DATA CONTAINS RESIZED VERSIONS (32 by 32) OF THESE IMAGES**\n",
    "\n",
    "Complete the basic data summary below."
   ]
  },
  {
   "cell_type": "code",
   "execution_count": 10,
   "metadata": {
    "collapsed": false
   },
   "outputs": [
    {
     "name": "stdout",
     "output_type": "stream",
     "text": [
      "Number of training examples = 39209\n",
      "Number of testing examples = 12630\n",
      "Image data shape = (32, 32)\n",
      "Number of classes = 43\n"
     ]
    }
   ],
   "source": [
    "### Replace each question mark with the appropriate value.\n",
    "\n",
    "# TODO: Number of training examples\n",
    "n_train = X_train.shape[0]\n",
    "\n",
    "# TODO: Number of testing examples.\n",
    "n_test = X_test.shape[0]\n",
    "\n",
    "# TODO: What's the shape of an traffic sign image?\n",
    "image_shape = (X_train.shape[1], X_train.shape[2])\n",
    "\n",
    "# TODO: How many unique classes/labels there are in the dataset.\n",
    "n_classes = max(y_train) + 1\n",
    "\n",
    "print(\"Number of training examples =\", n_train)\n",
    "print(\"Number of testing examples =\", n_test)\n",
    "print(\"Image data shape =\", image_shape)\n",
    "print(\"Number of classes =\", n_classes)"
   ]
  },
  {
   "cell_type": "markdown",
   "metadata": {},
   "source": [
    "Visualize the German Traffic Signs Dataset using the pickled file(s). This is open ended, suggestions include: plotting traffic sign images, plotting the count of each sign, etc.\n",
    "\n",
    "The [Matplotlib](http://matplotlib.org/) [examples](http://matplotlib.org/examples/index.html) and [gallery](http://matplotlib.org/gallery.html) pages are a great resource for doing visualizations in Python.\n",
    "\n",
    "**NOTE:** It's recommended you start with something simple first. If you wish to do more, come back to it after you've completed the rest of the sections."
   ]
  },
  {
   "cell_type": "code",
   "execution_count": 11,
   "metadata": {
    "collapsed": false
   },
   "outputs": [],
   "source": [
    "# How many of each sign?\n",
    "if flags['show_plots']:\n",
    "    plt.hist(y_train, bins=range(1,n_classes+1))\n",
    "    plt.figure()\n",
    "    plt.hist(y_test, bins=range(1, n_classes+1))\n",
    "    print()"
   ]
  },
  {
   "cell_type": "code",
   "execution_count": 12,
   "metadata": {
    "collapsed": false
   },
   "outputs": [],
   "source": [
    "if flags['show_plots']:\n",
    "    for i in range(5):\n",
    "        plt.figure(figsize=(1,1))\n",
    "        plt.imshow(random.choice(X_train))"
   ]
  },
  {
   "cell_type": "markdown",
   "metadata": {},
   "source": [
    "----\n",
    "\n",
    "## Step 2: Design and Test a Model Architecture\n",
    "\n",
    "Design and implement a deep learning model that learns to recognize traffic signs. Train and test your model on the [German Traffic Sign Dataset](http://benchmark.ini.rub.de/?section=gtsrb&subsection=dataset).\n",
    "\n",
    "There are various aspects to consider when thinking about this problem:\n",
    "\n",
    "- Neural network architecture\n",
    "- Play around preprocessing techniques (normalization, rgb to grayscale, etc)\n",
    "- Number of examples per label (some have more than others).\n",
    "- Generate fake data.\n",
    "\n",
    "Here is an example of a [published baseline model on this problem](http://yann.lecun.com/exdb/publis/pdf/sermanet-ijcnn-11.pdf). It's not required to be familiar with the approach used in the paper but, it's good practice to try to read papers like these.\n",
    "\n",
    "**NOTE:** The LeNet-5 implementation shown in the [classroom](https://classroom.udacity.com/nanodegrees/nd013/parts/fbf77062-5703-404e-b60c-95b78b2f3f9e/modules/6df7ae49-c61c-4bb2-a23e-6527e69209ec/lessons/601ae704-1035-4287-8b11-e2c2716217ad/concepts/d4aca031-508f-4e0b-b493-e7b706120f81) at the end of the CNN lesson is a solid starting point. You'll have to change the number of classes and possibly the preprocessing, but aside from that it's plug and play!"
   ]
  },
  {
   "cell_type": "markdown",
   "metadata": {},
   "source": [
    "### Implementation\n",
    "\n",
    "Use the code cell (or multiple code cells, if necessary) to implement the first step of your project. Once you have completed your implementation and are satisfied with the results, be sure to thoroughly answer the questions that follow."
   ]
  },
  {
   "cell_type": "markdown",
   "metadata": {},
   "source": [
    "#### Generating Additional and Alternate Data"
   ]
  },
  {
   "cell_type": "code",
   "execution_count": 13,
   "metadata": {
    "collapsed": true
   },
   "outputs": [],
   "source": [
    "# Generate color images so that each label has atleast 1500 examples\n",
    "\n",
    "import random\n",
    "import cv2\n",
    "\n",
    "def generate_color_image(label):   \n",
    "    indexes = [x[0] for x in enumerate(y_train) if x[1] == label]\n",
    "    index = random.choice(indexes)\n",
    "    image = X_train[index]\n",
    "    rotate = random.randint(-10, 10)\n",
    "    scale = random.random() * .2 + 1\n",
    "    image_center = (16, 16)\n",
    "    rot_mat = cv2.getRotationMatrix2D(image_center,rotate, scale)\n",
    "    result = cv2.warpAffine(image, rot_mat, (32, 32))\n",
    "    return result\n",
    "\n",
    "if flags['generate_color_images']:\n",
    "    generated = []\n",
    "    generated_labels = []\n",
    "    bins = np.bincount(y_train)\n",
    "    for label, bin in enumerate(bins):\n",
    "        need = 1500 - bin if bin < 1500 else 0\n",
    "        print(\"Label {0} needs {1} images\".format(label, need))\n",
    "        for i in range(need):\n",
    "            generated.append(generate_image(label))\n",
    "            generated_labels.append(label)\n",
    "    \n",
    "    with open('generated.p', 'wb') as f:\n",
    "        pickle.dump({ 'features': generated, 'labels': generated_labels }, f)"
   ]
  },
  {
   "cell_type": "code",
   "execution_count": 14,
   "metadata": {
    "collapsed": false
   },
   "outputs": [],
   "source": [
    "# Convert RGB images to grayscale\n",
    "def grayscale(images):\n",
    "    converted = []\n",
    "    for image in images:\n",
    "        converted.append(cv2.cvtColor(image, cv2.COLOR_RGB2GRAY))\n",
    "    return np.array(converted)\n",
    "\n",
    "if flags['generate_grayscale_images']:\n",
    "    train_grayscale = grayscale(X_train)\n",
    "    test_grayscale  = grayscale(X_test)\n",
    "    train_data = {\n",
    "        'features': train_grayscale, \n",
    "        'labels': y_train\n",
    "    }\n",
    "    test_data = {\n",
    "        'features': test_grayscale,\n",
    "        'labels': y_test\n",
    "    }\n",
    "    with open('train_grayscale.p' ,'wb') as f:\n",
    "        pickle.dump(train_data, f)\n",
    "    with open('test_grayscale.p', 'wb') as f:\n",
    "        pickle.dump(test_data, f)"
   ]
  },
  {
   "cell_type": "markdown",
   "metadata": {},
   "source": [
    "### Question 1 \n",
    "\n",
    "_Describe how you preprocessed the data. Why did you choose that technique?_"
   ]
  },
  {
   "cell_type": "markdown",
   "metadata": {},
   "source": [
    "**Answer:**"
   ]
  },
  {
   "cell_type": "markdown",
   "metadata": {},
   "source": [
    "I converted both the test and train data to grayscale because that did better on the validation set than the color images. I didn't do any data splitting or shuffling here because I used cross validation with StratifiedKFold later on"
   ]
  },
  {
   "cell_type": "markdown",
   "metadata": {},
   "source": [
    "### Question 2\n",
    "\n",
    "_Describe how you set up the training, validation and testing data for your model. **Optional**: If you generated additional data, how did you generate the data? Why did you generate the data? What are the differences in the new dataset (with generated data) from the original dataset?_"
   ]
  },
  {
   "cell_type": "markdown",
   "metadata": {},
   "source": [
    "**Answer:**"
   ]
  },
  {
   "cell_type": "markdown",
   "metadata": {},
   "source": [
    "I used cross validation to create 3 stratified, random folds for training in each epoch. I did generate a bunch of jittered images and the code to do so is up there in the preprocessing, but the picture generation had a negligible effect on the final result, so I excluded it from the writeup. "
   ]
  },
  {
   "cell_type": "markdown",
   "metadata": {},
   "source": [
    "#### Code:"
   ]
  },
  {
   "cell_type": "code",
   "execution_count": 15,
   "metadata": {
    "collapsed": false
   },
   "outputs": [],
   "source": [
    "from tensorflow.contrib.layers import flatten\n",
    "\n",
    "def maxpool(input_layer):\n",
    "    ksize = [1, 2, 2, 1]\n",
    "    strides = [1, 2, 2, 1]\n",
    "    padding = 'VALID'\n",
    "    return tf.nn.max_pool(input_layer, ksize, strides, padding)\n",
    "    \n",
    "def conv_layer(input_layer, filter_shape, strides=1, padding='VALID'):\n",
    "    weights = tf.Variable(tf.truncated_normal(filter_shape, mean=MU, stddev=SIGMA))\n",
    "    biases = tf.Variable(tf.zeros(filter_shape[3]))\n",
    "    strides = [1,strides,strides,1]\n",
    "    return tf.nn.conv2d(input_layer, weights, strides, padding) + biases\n",
    "\n",
    "def fully_connected_layer(input_layer, shape):\n",
    "    weights = tf.Variable(tf.truncated_normal(shape, mean=MU, stddev=SIGMA))\n",
    "    biases = tf.Variable(tf.zeros(shape[1]))\n",
    "    return tf.matmul(input_layer, weights) + biases\n",
    "\n",
    "def activation_layer(input_layer):\n",
    "    return tf.sigmoid(input_layer)\n",
    "    \n",
    "def LeNet(x, keep_prob, conv_keep_prob): \n",
    "    # Output = 14 x 14 x 25\n",
    "    x = tf.reshape(x, (-1, 32, 32, 1))\n",
    "    conv1 = conv_layer(x, [5,5,1,25])\n",
    "    conv1_activated = activation_layer(conv1)\n",
    "    conv1_pooled = maxpool(conv1_activated)\n",
    "    conv1_dropped = tf.nn.dropout(conv1_pooled, conv_keep_prob)\n",
    "    \n",
    "    # Output = 5 x 5 x 150\n",
    "    conv2 = conv_layer(conv1_dropped, [5,5,25,150])\n",
    "    conv2_activated = activation_layer(conv2)\n",
    "    conv2_pooled = maxpool(conv2_activated)\n",
    "    conv2_dropped = tf.nn.dropout(conv2_pooled, conv_keep_prob)\n",
    "    \n",
    "    fc1_input = flatten(conv2_pooled)\n",
    "    fc1_output = fully_connected_layer(fc1_input, (3750, 500))\n",
    "    fc1_activated = activation_layer(fc1_output)\n",
    "    fc1_dropped = tf.nn.dropout(fc1_activated, keep_prob)\n",
    "    \n",
    "    fc2_output = fully_connected_layer(fc1_dropped, (500, 250))\n",
    "    fc2_activated = activation_layer(fc2_output)\n",
    "    fc2_dropped = tf.nn.dropout(fc2_activated, keep_prob)\n",
    "    \n",
    "    logits = fully_connected_layer(fc2_dropped, (250, 43))\n",
    "    \n",
    "    return logits\n",
    "\n",
    "def evaluate(X_data, y_data):\n",
    "    num_examples = len(X_data)\n",
    "    total_accuracy = 0\n",
    "    sess = tf.get_default_session()\n",
    "    for offset in range(0, num_examples, BATCH_SIZE):\n",
    "        batch_x, batch_y = X_data[offset:offset+BATCH_SIZE], y_data[offset:offset+BATCH_SIZE]\n",
    "        accuracy = sess.run(accuracy_operation, feed_dict={x: batch_x, y: batch_y, keep_prob: 1, conv_keep_prob: 1})\n",
    "        total_accuracy += (accuracy * len(batch_x))\n",
    "    return total_accuracy / num_examples\n",
    "\n",
    "# Setup Variables\n",
    "x = tf.placeholder(tf.float32, (None, 32, 32))\n",
    "y = tf.placeholder(tf.int32, (None))\n",
    "keep_prob = tf.placeholder(tf.float32)\n",
    "conv_keep_prob = tf.placeholder(tf.float32)\n",
    "one_hot_y = tf.one_hot(y, 43)\n",
    "\n",
    "# Training Network\n",
    "logits = LeNet(x, keep_prob, conv_keep_prob)\n",
    "cross_entropy = tf.nn.softmax_cross_entropy_with_logits(logits, one_hot_y)\n",
    "loss_operation = tf.reduce_mean(cross_entropy)\n",
    "optimizer = tf.train.AdamOptimizer(learning_rate = LEARNING_RATE)\n",
    "training_operation = optimizer.minimize(loss_operation)\n",
    "\n",
    "correct_prediction = tf.equal(tf.argmax(logits, 1), tf.argmax(one_hot_y, 1))\n",
    "accuracy_operation = tf.reduce_mean(tf.cast(correct_prediction, tf.float32))\n",
    "saver = tf.train.Saver()"
   ]
  },
  {
   "cell_type": "code",
   "execution_count": 16,
   "metadata": {
    "collapsed": false,
    "scrolled": true
   },
   "outputs": [],
   "source": [
    "if flags['train_network'] and flags['train_cross_val']: \n",
    "    with tf.Session() as sess:\n",
    "        sess.run(tf.global_variables_initializer())\n",
    "\n",
    "        print(\"Training...\")\n",
    "        print()\n",
    "        for i in range(EPOCHS):\n",
    "            print(\"EPOCH {} ...\".format(i+1))\n",
    "            train_accuracies = []\n",
    "            val_accuracies = []\n",
    "            X_train, y_train = sklearn.utils.shuffle(X_train, y_train)\n",
    "            kf = sklearn.model_selection.StratifiedKFold(n_splits=3)\n",
    "            for j, (sub_train, val) in enumerate(kf.split(X_train, y_train)):\n",
    "                X_sub_train, X_val, y_sub_train, y_val = X_train[sub_train], X_train[val], y_train[sub_train], y_train[val]\n",
    "                num_examples = len(X_sub_train)\n",
    "                for offset in range(0, num_examples, BATCH_SIZE):\n",
    "                    end = offset + BATCH_SIZE\n",
    "                    batch_x, batch_y = X_sub_train[offset:end], y_sub_train[offset:end]\n",
    "                    sess.run(training_operation, feed_dict={x: batch_x, y: batch_y, keep_prob: KEEP_PROB, conv_keep_prob: CONV_KEEP_PROB})\n",
    "                train_accuracy = evaluate(X_sub_train, y_sub_train)\n",
    "                val_accuracy = evaluate(X_val, y_val)\n",
    "                train_accuracies.append(train_accuracy)\n",
    "                val_accuracies.append(val_accuracy)\n",
    "                print(\"CV {}\".format(j+1))\n",
    "                print(\"Train Accuracy = {:.3f}\".format(train_accuracy))\n",
    "                print(\"Validation Accuracy = {:.3f}\".format(val_accuracy))\n",
    "            print(\"Averaged CVs: Train Accuracy = {:.3f}\".format(np.mean(train_accuracies)))\n",
    "            print(\"Averaged CVs: Validation Accuracy = {:.3f}\".format(np.mean(val_accuracies)))\n",
    "            print()\n",
    "\n",
    "        saver.save(sess, 'lenet')\n",
    "        print(\"Model saved\")"
   ]
  },
  {
   "cell_type": "code",
   "execution_count": 17,
   "metadata": {
    "collapsed": false
   },
   "outputs": [],
   "source": [
    "if flags['train_network'] and not flags['train_cross_val']:\n",
    "    X_sub_train, X_val, y_sub_train, y_val = train_test_split(X_train, y_train)\n",
    "    num_examples = len(X_sub_train)\n",
    "    with tf.Session() as sess:\n",
    "        sess.run(tf.global_variables_initializer())\n",
    "        print(\"Training...\")\n",
    "        print()\n",
    "        for i in range(EPOCHS):\n",
    "            print(\"EPOCH {} ...\".format(i+1))\n",
    "            X_sub_train, y_sub_train = sklearn.utils.shuffle(X_sub_train, y_sub_train)\n",
    "            for offset in range(0, num_examples, BATCH_SIZE):\n",
    "                end = offset + BATCH_SIZE\n",
    "                batch_x, batch_y = X_sub_train[offset:end], y_sub_train[offset:end]\n",
    "                sess.run(training_operation, feed_dict={x: batch_x, y: batch_y, keep_prob: KEEP_PROB, conv_keep_prob: CONV_KEEP_PROB})\n",
    "            train_accuracy = evaluate(X_sub_train, y_sub_train)\n",
    "            val_accuracy = evaluate(X_val, y_val)\n",
    "            print(\"Train Accuracy = {:.3f}\".format(train_accuracy))\n",
    "            print(\"Validation Accuracy = {:.3f}\".format(val_accuracy))\n",
    "            print()\n",
    "\n",
    "        saver.save(sess, 'lenet')\n",
    "        print(\"Model saved\")"
   ]
  },
  {
   "cell_type": "code",
   "execution_count": 18,
   "metadata": {
    "collapsed": false
   },
   "outputs": [],
   "source": [
    "if flags['evaluate_test_accuracy']:\n",
    "    with tf.Session() as sess:\n",
    "        saver.restore(sess, './lenet')     \n",
    "        test_accuracy = evaluate(X_test, y_test)\n",
    "        print(\"Test Accuracy: {:.3f}\".format(test_accuracy))"
   ]
  },
  {
   "cell_type": "markdown",
   "metadata": {},
   "source": [
    "### Question 3\n",
    "\n",
    "_What does your final architecture look like? (Type of model, layers, sizes, connectivity, etc.)  For reference on how to build a deep neural network using TensorFlow, see [Deep Neural Network in TensorFlow\n",
    "](https://classroom.udacity.com/nanodegrees/nd013/parts/fbf77062-5703-404e-b60c-95b78b2f3f9e/modules/6df7ae49-c61c-4bb2-a23e-6527e69209ec/lessons/b516a270-8600-4f93-a0a3-20dfeabe5da6/concepts/83a3a2a2-a9bd-4b7b-95b0-eb924ab14432) from the classroom._\n"
   ]
  },
  {
   "cell_type": "markdown",
   "metadata": {},
   "source": [
    "**Answer:**"
   ]
  },
  {
   "cell_type": "markdown",
   "metadata": {},
   "source": [
    "My final architecture has 2 convolution layers of size 25 and 150 with max pooling, followed by two fully connected layers of size 500 and 150. Using dropout had no effect, so I left the keep probabilities at 100%. "
   ]
  },
  {
   "cell_type": "markdown",
   "metadata": {},
   "source": [
    "### Question 4\n",
    "\n",
    "_How did you train your model? (Type of optimizer, batch size, epochs, hyperparameters, etc.)_\n"
   ]
  },
  {
   "cell_type": "markdown",
   "metadata": {},
   "source": [
    "**Answer:**"
   ]
  },
  {
   "cell_type": "markdown",
   "metadata": {},
   "source": [
    "I stuck with the default AdamOptimizer, 128 count batch size, and .001 learning rate, and changed the number of epochs to 8. Additionally, I had dropout rates that I ended up not having to use. "
   ]
  },
  {
   "cell_type": "markdown",
   "metadata": {},
   "source": [
    "### Question 5\n",
    "\n",
    "\n",
    "_What approach did you take in coming up with a solution to this problem? It may have been a process of trial and error, in which case, outline the steps you took to get to the final solution and why you chose those steps. Perhaps your solution involved an already well known implementation or architecture. In this case, discuss why you think this is suitable for the current problem._"
   ]
  },
  {
   "cell_type": "markdown",
   "metadata": {},
   "source": [
    "**Answer:**"
   ]
  },
  {
   "cell_type": "markdown",
   "metadata": {},
   "source": [
    "I started off by using the LeNet model and reading up on the baseline model by LeCunn. I then started with LeNet, slowly made the convolution depths larger until accuracy stopped improving, then used grayscale images and tried out dropout. "
   ]
  },
  {
   "cell_type": "markdown",
   "metadata": {},
   "source": [
    "---\n",
    "\n",
    "## Step 3: Test a Model on New Images\n",
    "\n",
    "Take several pictures of traffic signs that you find on the web or around you (at least five), and run them through your classifier on your computer to produce example results. The classifier might not recognize some local signs but it could prove interesting nonetheless.\n",
    "\n",
    "You may find `signnames.csv` useful as it contains mappings from the class id (integer) to the actual sign name."
   ]
  },
  {
   "cell_type": "markdown",
   "metadata": {},
   "source": [
    "### Implementation\n",
    "\n",
    "Use the code cell (or multiple code cells, if necessary) to implement the first step of your project. Once you have completed your implementation and are satisfied with the results, be sure to thoroughly answer the questions that follow."
   ]
  },
  {
   "cell_type": "code",
   "execution_count": 83,
   "metadata": {
    "collapsed": false
   },
   "outputs": [
    {
     "data": {
      "image/png": "[encoded data removed]",
      "text/plain": [
       "<matplotlib.figure.Figure at 0x7f5671ce9e10>"
      ]
     },
     "metadata": {},
     "output_type": "display_data"
    },
    {
     "data": {
      "image/png": "[encoded data removed]",
      "text/plain": [
       "<matplotlib.figure.Figure at 0x7f566bb2b518>"
      ]
     },
     "metadata": {},
     "output_type": "display_data"
    },
    {
     "data": {
      "image/png": "[encoded data removed]",
      "text/plain": [
       "<matplotlib.figure.Figure at 0x7f56700dbc88>"
      ]
     },
     "metadata": {},
     "output_type": "display_data"
    },
    {
     "data": {
      "image/png": "[encoded data removed]",
      "text/plain": [
       "<matplotlib.figure.Figure at 0x7f566bccbd68>"
      ]
     },
     "metadata": {},
     "output_type": "display_data"
    },
    {
     "data": {
      "image/png": "[encoded data removed]",
      "text/plain": [
       "<matplotlib.figure.Figure at 0x7f566bea3518>"
      ]
     },
     "metadata": {},
     "output_type": "display_data"
    },
    {
     "data": {
      "image/png": "[encoded data removed]",
      "text/plain": [
       "<matplotlib.figure.Figure at 0x7f566bc56780>"
      ]
     },
     "metadata": {},
     "output_type": "display_data"
    }
   ],
   "source": [
    "### Load the images and plot them here.\n",
    "### Feel free to use as many code cells as needed.\n",
    "\n",
    "# labels = np.array([33, 28, 17, 25, 8, 1])\n",
    "# images = [mpimg.imread('testimg/' + path) for path in os.listdir('testimg/')]\n",
    "# images = np.stack(images)\n",
    "# for image in images:\n",
    "#     plt.figure(figsize=(1,1))\n",
    "#     plt.imshow(image)\n",
    "\n",
    "# data = { 'features': images, 'labels': labels }\n",
    "# with open('internet_images.p', 'wb') as f:\n",
    "#     pickle.dump(data, f)\n",
    "\n",
    "with open('internet_images.p', 'rb') as f:\n",
    "    internet_images = pickle.load(f)\n",
    "\n",
    "X_web_test = internet_images['features']\n",
    "y_web_test = internet_images['labels']\n",
    "\n",
    "for image in X_web_test:\n",
    "    plt.figure(figsize=(1,1))\n",
    "    plt.imshow(image)\n",
    "\n",
    "X_web_test = grayscale(internet_images['features'])"
   ]
  },
  {
   "cell_type": "markdown",
   "metadata": {},
   "source": [
    "### Question 6\n",
    "\n",
    "_Choose five candidate images of traffic signs and provide them in the report. Are there any particular qualities of the image(s) that might make classification difficult? It could be helpful to plot the images in the notebook._\n",
    "\n"
   ]
  },
  {
   "cell_type": "markdown",
   "metadata": {},
   "source": [
    "**Answer:**"
   ]
  },
  {
   "cell_type": "code",
   "execution_count": 20,
   "metadata": {
    "collapsed": true
   },
   "outputs": [],
   "source": [
    "### Run the predictions here.\n",
    "### Feel free to use as many code cells as needed.\n",
    "\n",
    "with tf.Session() as sess:\n",
    "    saver.restore(sess, './lenet')     \n",
    "    test_accuracy = evaluate(X_web_test, y_web_test)\n",
    "    print(\"Test Accuracy: {:.3f}\".format(test_accuracy))"
   ]
  },
  {
   "cell_type": "markdown",
   "metadata": {},
   "source": [
    "### Question 7\n",
    "\n",
    "_Is your model able to perform equally well on captured pictures when compared to testing on the dataset? The simplest way to do this check the accuracy of the predictions. For example, if the model predicted 1 out of 5 signs correctly, it's 20% accurate._\n",
    "\n",
    "_**NOTE:** You could check the accuracy manually by using `signnames.csv` (same directory). This file has a mapping from the class id (0-42) to the corresponding sign name. So, you could take the class id the model outputs, lookup the name in `signnames.csv` and see if it matches the sign from the image._\n"
   ]
  },
  {
   "cell_type": "markdown",
   "metadata": {},
   "source": [
    "**Answer:**"
   ]
  },
  {
   "cell_type": "code",
   "execution_count": 21,
   "metadata": {
    "collapsed": true
   },
   "outputs": [],
   "source": [
    "### Visualize the softmax probabilities here.\n",
    "### Feel free to use as many code cells as needed."
   ]
  },
  {
   "cell_type": "markdown",
   "metadata": {},
   "source": [
    "### Question 8\n",
    "\n",
    "*Use the model's softmax probabilities to visualize the **certainty** of its predictions, [`tf.nn.top_k`](https://www.tensorflow.org/versions/r0.12/api_docs/python/nn.html#top_k) could prove helpful here. Which predictions is the model certain of? Uncertain? If the model was incorrect in its initial prediction, does the correct prediction appear in the top k? (k should be 5 at most)*\n",
    "\n",
    "`tf.nn.top_k` will return the values and indices (class ids) of the top k predictions. So if k=3, for each sign, it'll return the 3 largest probabilities (out of a possible 43) and the correspoding class ids.\n",
    "\n",
    "Take this numpy array as an example:\n",
    "\n",
    "```\n",
    "# (5, 6) array\n",
    "a = np.array([[ 0.24879643,  0.07032244,  0.12641572,  0.34763842,  0.07893497,\n",
    "         0.12789202],\n",
    "       [ 0.28086119,  0.27569815,  0.08594638,  0.0178669 ,  0.18063401,\n",
    "         0.15899337],\n",
    "       [ 0.26076848,  0.23664738,  0.08020603,  0.07001922,  0.1134371 ,\n",
    "         0.23892179],\n",
    "       [ 0.11943333,  0.29198961,  0.02605103,  0.26234032,  0.1351348 ,\n",
    "         0.16505091],\n",
    "       [ 0.09561176,  0.34396535,  0.0643941 ,  0.16240774,  0.24206137,\n",
    "         0.09155967]])\n",
    "```\n",
    "\n",
    "Running it through `sess.run(tf.nn.top_k(tf.constant(a), k=3))` produces:\n",
    "\n",
    "```\n",
    "TopKV2(values=array([[ 0.34763842,  0.24879643,  0.12789202],\n",
    "       [ 0.28086119,  0.27569815,  0.18063401],\n",
    "       [ 0.26076848,  0.23892179,  0.23664738],\n",
    "       [ 0.29198961,  0.26234032,  0.16505091],\n",
    "       [ 0.34396535,  0.24206137,  0.16240774]]), indices=array([[3, 0, 5],\n",
    "       [0, 1, 4],\n",
    "       [0, 5, 1],\n",
    "       [1, 3, 5],\n",
    "       [1, 4, 3]], dtype=int32))\n",
    "```\n",
    "\n",
    "Looking just at the first row we get `[ 0.34763842,  0.24879643,  0.12789202]`, you can confirm these are the 3 largest probabilities in `a`. You'll also notice `[3, 0, 5]` are the corresponding indices."
   ]
  },
  {
   "cell_type": "markdown",
   "metadata": {},
   "source": [
    "**Answer:**"
   ]
  },
  {
   "cell_type": "markdown",
   "metadata": {},
   "source": [
    "> **Note**: Once you have completed all of the code implementations and successfully answered each question above, you may finalize your work by exporting the iPython Notebook as an HTML document. You can do this by using the menu above and navigating to  \\n\",\n",
    "    \"**File -> Download as -> HTML (.html)**. Include the finished document along with this notebook as your submission."
   ]
  }
 ],
 "metadata": {
  "anaconda-cloud": {},
  "kernelspec": {
   "display_name": "Python 3",
   "language": "python",
   "name": "python3"
  },
  "language_info": {
   "codemirror_mode": {
    "name": "ipython",
    "version": 3
   },
   "file_extension": ".py",
   "mimetype": "text/x-python",
   "name": "python",
   "nbconvert_exporter": "python",
   "pygments_lexer": "ipython3",
   "version": "3.5.2"
  },
  "widgets": {
   "state": {},
   "version": "1.1.2"
  }
 },
 "nbformat": 4,
 "nbformat_minor": 1
}
